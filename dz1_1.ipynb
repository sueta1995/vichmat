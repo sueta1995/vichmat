{
 "cells": [
  {
   "cell_type": "code",
   "execution_count": 2,
   "id": "566caac7-afbc-4aa2-a7ba-e877dd2901ab",
   "metadata": {},
   "outputs": [],
   "source": [
    "import numpy as np\n",
    "from numpy import linalg as LA"
   ]
  },
  {
   "cell_type": "code",
   "execution_count": 115,
   "id": "5d5a718c-7b16-43ab-b5ed-a428195d6a77",
   "metadata": {},
   "outputs": [],
   "source": [
    "# исходные данные\n",
    "# первая матрица\n",
    "A1 = [[177.2000,   1.0500,   -8.9700,  0.7500],\n",
    "      [  4.2600, 185.8000,    0.1300, -8.8600],\n",
    "      [ -3.8100,   5.2300, -189.0000, -4.8800],\n",
    "      [  5.8200,   3.8700,   -2.4700, 81.4000]]\n",
    "\n",
    "B1 = [[  455.3400],\n",
    "      [ -924.0400],\n",
    "      [-1554.4600],\n",
    "      [   59.7500]]\n",
    "\n",
    "# точный результат для первой матрицы\n",
    "X1 = [[ 3],\n",
    "      [-5], \n",
    "      [ 8], \n",
    "      [ 1]]\n",
    "\n",
    "# вторая матрица\n",
    "A2 = [[ 167.9400,  32.6700,  -24.9250,  60.2720],\n",
    "      [ -11.1360,   6.4340,    1.4070,  10.2960],\n",
    "      [1174.1800, 228.6900, -174.2750, 421.9040],\n",
    "      [  27.9650,   0.0000,   -3.9950,   0.9990]]\n",
    "\n",
    "B2 = [[ -9.9130], \n",
    "      [-28.7890], \n",
    "      [-70.1910], \n",
    "      [ 16.9790]]\n",
    "\n",
    "# точный результат для второй матрицы\n",
    "X2 = [[ 1], \n",
    "      [-5], \n",
    "      [ 3], \n",
    "      [ 1]]\n",
    "\n",
    "# единичная матрица\n",
    "E = [[1, 0, 0, 0],\n",
    "     [0, 1, 0, 0],\n",
    "     [0, 0, 1, 0],\n",
    "     [0, 0, 0, 1]]"
   ]
  },
  {
   "cell_type": "code",
   "execution_count": 95,
   "id": "8f805e2a-555e-48be-824e-7406cfcf7ff8",
   "metadata": {},
   "outputs": [],
   "source": [
    "# функция для преобразования матрицы к треугольному виду\n",
    "def gauss_func(matrix):\n",
    "    # функция меняет матрицу через побочные эффекты\n",
    "    for nrow, row in enumerate(matrix):\n",
    "        # nrow равен номеру строки\n",
    "        # row содержит саму строку матрицы\n",
    "        divider = row[nrow] # диагональный элемент\n",
    "        # делим на диагональный элемент.\n",
    "        row /= divider\n",
    "        # теперь надо вычесть приведённую строку из всех нижележащих строчек\n",
    "        for lower_row in matrix[nrow+1:]:\n",
    "            factor = lower_row[nrow] # элемент строки в колонке nrow\n",
    "            lower_row -= factor*row # вычитаем, чтобы получить ноль в колонке nrow\n",
    "    # все строки матрицы изменились, в принципе, можно и не возвращать\n",
    "    return matrix\n",
    "\n",
    "# функция, с которой доводим полученную матрицу до единичной\n",
    "def make_identity(matrix):\n",
    "    # перебор строк в обратном порядке \n",
    "    for nrow in range(len(matrix)-1,0,-1):\n",
    "        row = matrix[nrow]\n",
    "        for upper_row in matrix[:nrow]:\n",
    "            factor = upper_row[nrow]\n",
    "            upper_row -= factor*row\n",
    "    return matrix"
   ]
  },
  {
   "cell_type": "code",
   "execution_count": 79,
   "id": "7cb13b30-c0fa-4e05-8be5-75ea940da7b3",
   "metadata": {},
   "outputs": [],
   "source": [
    "# функция для нахождения норм\n",
    "def norm(a):\n",
    "    norm_one = LA.norm(a, 1)\n",
    "    norm_inf = LA.norm(a, np.inf)\n",
    "    return [norm_one, norm_inf]"
   ]
  },
  {
   "cell_type": "code",
   "execution_count": 80,
   "id": "17d0d634-2eac-4ca1-8759-34c036042afb",
   "metadata": {},
   "outputs": [],
   "source": [
    "# функция для нахождения числа обусловленности\n",
    "def cond(a):\n",
    "    cond_one = LA.norm(a, 1) * LA.norm(LA.pinv(a), 1)\n",
    "    cond_inf = LA.norm(a, np.inf) * LA.norm(LA.pinv(a), np.inf)\n",
    "    return [cond_one, cond_inf]"
   ]
  },
  {
   "cell_type": "code",
   "execution_count": 85,
   "id": "2e6b4947-b478-4e1a-a031-2e026fcb869a",
   "metadata": {},
   "outputs": [],
   "source": [
    "# функция решения СЛАУ\n",
    "def solve(A, B):\n",
    "    AB = np.append(A1, B, axis=1)\n",
    "    return make_identity(gaussFunc(np.copy(AB)))[:,4:]"
   ]
  },
  {
   "cell_type": "code",
   "execution_count": 96,
   "id": "b2c2aaf2-9494-48b4-a9a2-f27904248950",
   "metadata": {},
   "outputs": [
    {
     "data": {
      "text/plain": [
       "array([[ 3.],\n",
       "       [-5.],\n",
       "       [ 8.],\n",
       "       [ 1.]])"
      ]
     },
     "execution_count": 96,
     "metadata": {},
     "output_type": "execute_result"
    }
   ],
   "source": [
    "# Решение первого уравнения\n",
    "F1 = solve(A1, B1)\n",
    "F1"
   ]
  },
  {
   "cell_type": "code",
   "execution_count": 97,
   "id": "01a42724-fb84-4d9f-ba80-4e4fe8c30401",
   "metadata": {},
   "outputs": [
    {
     "data": {
      "text/plain": [
       "array([[-0.03772454],\n",
       "       [-0.14341015],\n",
       "       [ 0.36225774],\n",
       "       [ 0.22909497]])"
      ]
     },
     "execution_count": 97,
     "metadata": {},
     "output_type": "execute_result"
    }
   ],
   "source": [
    "# Решение второго уравнения\n",
    "F2 = solve(A2, B2)\n",
    "F2"
   ]
  },
  {
   "cell_type": "code",
   "execution_count": 110,
   "id": "4939b18f-0baa-4e9a-a371-5ed28fa6839b",
   "metadata": {},
   "outputs": [
    {
     "data": {
      "text/plain": [
       "array([[ 5.68434189e-14],\n",
       "       [-1.13686838e-13],\n",
       "       [ 2.27373675e-13],\n",
       "       [ 7.10542736e-15]])"
      ]
     },
     "execution_count": 110,
     "metadata": {},
     "output_type": "execute_result"
    }
   ],
   "source": [
    "# невязка первой матрицы\n",
    "R1 = B1 - np.matmul(A1, F1)\n",
    "R1"
   ]
  },
  {
   "cell_type": "code",
   "execution_count": 114,
   "id": "ce0237a9-8fda-4abe-b20e-35653fe4935a",
   "metadata": {},
   "outputs": [
    {
     "data": {
      "text/plain": [
       "array([[ -3.67106912],\n",
       "       [-31.15485806],\n",
       "       [-26.62274973],\n",
       "       [ 19.25232057]])"
      ]
     },
     "execution_count": 114,
     "metadata": {},
     "output_type": "execute_result"
    }
   ],
   "source": [
    "# невязка второй матрицы\n",
    "R2 = B2 - np.matmul(A2, F2)\n",
    "R2"
   ]
  },
  {
   "cell_type": "code",
   "execution_count": 118,
   "id": "2292909d-6c63-482f-a7ae-3b65f3d60d04",
   "metadata": {},
   "outputs": [
    {
     "data": {
      "text/plain": [
       "[4.050093593832571e-13, 2.2737367544323206e-13]"
      ]
     },
     "execution_count": 118,
     "metadata": {},
     "output_type": "execute_result"
    }
   ],
   "source": [
    "# нормы невязки (единичная и бесконечная) первой СЛАУ\n",
    "norm1 = norm(R1)\n",
    "norm1"
   ]
  },
  {
   "cell_type": "code",
   "execution_count": 119,
   "id": "b4fb6535-152e-476f-bf0b-e6b081f6ae8e",
   "metadata": {},
   "outputs": [
    {
     "data": {
      "text/plain": [
       "[80.70099747309769, 31.15485806105682]"
      ]
     },
     "execution_count": 119,
     "metadata": {},
     "output_type": "execute_result"
    }
   ],
   "source": [
    "norm2 = norm(R2)\n",
    "norm2"
   ]
  },
  {
   "cell_type": "code",
   "execution_count": null,
   "id": "4143730d-f2f6-4bf8-9a07-c9b6bd3d9f18",
   "metadata": {},
   "outputs": [],
   "source": []
  }
 ],
 "metadata": {
  "kernelspec": {
   "display_name": "Python 3 (ipykernel)",
   "language": "python",
   "name": "python3"
  },
  "language_info": {
   "codemirror_mode": {
    "name": "ipython",
    "version": 3
   },
   "file_extension": ".py",
   "mimetype": "text/x-python",
   "name": "python",
   "nbconvert_exporter": "python",
   "pygments_lexer": "ipython3",
   "version": "3.10.12"
  }
 },
 "nbformat": 4,
 "nbformat_minor": 5
}
