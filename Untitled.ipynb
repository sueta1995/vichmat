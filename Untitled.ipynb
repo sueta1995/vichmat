{
 "cells": [
  {
   "cell_type": "code",
   "execution_count": 6,
   "id": "35a42c22-d974-40f7-ba13-b09d303714d7",
   "metadata": {},
   "outputs": [],
   "source": [
    "import numpy as np  \n",
    "from numpy import linalg as LA"
   ]
  },
  {
   "cell_type": "code",
   "execution_count": 33,
   "id": "edd4e988-7e1e-48f4-b7c7-3b71c40f72b4",
   "metadata": {},
   "outputs": [],
   "source": [
    "# исходные данные\n",
    "a = [-1, -1, 2, 1, 1]  \n",
    "b = [90, 114, 77, 98, -85, 134]  \n",
    "c = [1, 0, 1, 1, 1]  \n",
    "d = [9, 11, 8, 10, -9, 14]"
   ]
  },
  {
   "cell_type": "code",
   "execution_count": 41,
   "id": "6b08d5a3-261c-4d03-abaf-2b389d356672",
   "metadata": {},
   "outputs": [
    {
     "data": {
      "text/plain": [
       "array([[ 90.,   1.,   0.,   0.,   0.,   0.],\n",
       "       [ -1., 114.,   0.,   0.,   0.,   0.],\n",
       "       [  0.,  -1.,  77.,   1.,   0.,   0.],\n",
       "       [  0.,   0.,   2.,  98.,   1.,   0.],\n",
       "       [  0.,   0.,   0.,   1., -85.,   1.],\n",
       "       [  0.,   0.,   0.,   0.,   1., 134.]])"
      ]
     },
     "execution_count": 41,
     "metadata": {},
     "output_type": "execute_result"
    }
   ],
   "source": [
    "A = np.zeros((6, 6))\n",
    "\n",
    "for i in range(6):\n",
    "    A[i, i] = b[i]\n",
    "\n",
    "for i in range(5):\n",
    "    A[i, i+1] = c[i]\n",
    "    A[i+1, i] = a[i]\n",
    "\n",
    "a.insert(0, 0)  \n",
    "c.append(0) \n",
    "\n",
    "A"
   ]
  },
  {
   "cell_type": "code",
   "execution_count": 47,
   "id": "ceab1d0c-f8a8-40c3-b74c-fc4cfa0a1a94",
   "metadata": {},
   "outputs": [
    {
     "data": {
      "text/plain": [
       "True"
      ]
     },
     "execution_count": 47,
     "metadata": {},
     "output_type": "execute_result"
    }
   ],
   "source": [
    "# проверка выполнения достаточных условий\n",
    "TEMP = np.abs(c) < np.abs(a) + np.abs(b)\n",
    "\n",
    "np.all(TEMP == True)"
   ]
  },
  {
   "cell_type": "code",
   "execution_count": 24,
   "id": "cc053b0b-e024-4112-ae78-843929783d3c",
   "metadata": {},
   "outputs": [],
   "source": [
    "# Прямая прогонка  \n",
    "alpha = [0 for i in range(6)]  \n",
    "beta = [0 for i in range(6)]  \n",
    "gamma = [0 for i in range(6)]  \n",
    "\n",
    "gamma[0] = b[0]  \n",
    "alpha[0] = -c[0] / gamma[0]  \n",
    "beta[0] = d[0] / gamma[0]  \n",
    "for i in range(1, 6):  \n",
    "    gamma[i] = b[i] + a[i] * alpha[i-1]  \n",
    "    alpha[i] = -c[i] / gamma[i]  \n",
    "    beta[i] = (d[i] - a[i] * beta[i - 1]) / gamma[i]  "
   ]
  },
  {
   "cell_type": "code",
   "execution_count": 25,
   "id": "8e504b90-e90a-4ade-84be-aee61c968806",
   "metadata": {},
   "outputs": [
    {
     "name": "stdout",
     "output_type": "stream",
     "text": [
      "Alpha = [-0.011111111111111112, 0.0, -0.012987012987012988, -0.0102067868504772, 0.01176329334790751, 0.0]\n",
      "Beta = [0.1, 0.0973589318779846, 0.105160505608805, 0.09992116677309702, 0.10704504212758471, 0.10366966762060384]\n"
     ]
    }
   ],
   "source": [
    "line = 'Alpha = ' + str(alpha)  \n",
    "print(line)  \n",
    "line = 'Beta = ' + str(beta)  \n",
    "print(line)  "
   ]
  },
  {
   "cell_type": "code",
   "execution_count": 27,
   "id": "d5b5bfdf-e914-44e2-b9c1-9b4b8eefb214",
   "metadata": {},
   "outputs": [
    {
     "name": "stdout",
     "output_type": "stream",
     "text": [
      "X = [0.09891823409024462, 0.0973589318779846, 0.10387717919709459, 0.09881613370170127, 0.10826453883908595, 0.10366966762060384]\n"
     ]
    }
   ],
   "source": [
    "# Обратная прогонка  \n",
    "x = [0 for i in range(6)]  \n",
    "x[5] = beta[5]  \n",
    "for i in range(1, 6):  \n",
    "    x[5-i] = alpha[5-i] * x[5-i+1] + beta[5-i]  \n",
    "\n",
    "line = 'X = ' + str(x)  \n",
    "print(line)  "
   ]
  },
  {
   "cell_type": "code",
   "execution_count": 31,
   "id": "a03fa69d-39b2-491e-9c80-88ac3b8b1a92",
   "metadata": {},
   "outputs": [
    {
     "data": {
      "text/plain": [
       "3.552713678800501e-15"
      ]
     },
     "execution_count": 31,
     "metadata": {},
     "output_type": "execute_result"
    }
   ],
   "source": [
    "# норма единичная невязки\n",
    "LA.norm((d - np.matmul(A, x)), 1)"
   ]
  },
  {
   "cell_type": "code",
   "execution_count": 32,
   "id": "bb2adcc6-5ef7-4b44-b4bf-178ebfd47ca7",
   "metadata": {},
   "outputs": [
    {
     "data": {
      "text/plain": [
       "1.7763568394002505e-15"
      ]
     },
     "execution_count": 32,
     "metadata": {},
     "output_type": "execute_result"
    }
   ],
   "source": [
    "# норма бесконечная невязки\n",
    "LA.norm((d - np.matmul(A, x)), np.inf)"
   ]
  }
 ],
 "metadata": {
  "kernelspec": {
   "display_name": "Python 3 (ipykernel)",
   "language": "python",
   "name": "python3"
  },
  "language_info": {
   "codemirror_mode": {
    "name": "ipython",
    "version": 3
   },
   "file_extension": ".py",
   "mimetype": "text/x-python",
   "name": "python",
   "nbconvert_exporter": "python",
   "pygments_lexer": "ipython3",
   "version": "3.10.12"
  }
 },
 "nbformat": 4,
 "nbformat_minor": 5
}
